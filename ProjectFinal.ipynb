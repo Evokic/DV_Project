{
 "cells": [
  {
   "cell_type": "markdown",
   "metadata": {},
   "source": [
    "# Group3 -- Final Project \n",
    "# What Heart Disease Dataset Can Tell Us?\n",
    "# Group Members:\n",
    "- Tianqi Chen\n",
    "- Yunya Gu\n",
    "- Lucy Chang\n",
    "- Yuzhang Zhu\n",
    "\n",
    "# Basic information\n",
    "- Name of the dataset: heart diease\n",
    "- Founded on Kaggle, and it is originally from UCI.\n",
    "- URL: https://www.kaggle.com/ronitf/heart-disease-uci \n",
    "- License:  Open Access \n",
    "- Open Access is free of charge, most copyright and      licensing restrctions. \"It permits any users to read, download, copy, distribute, print, search, or link to the full texts of these articles, crawl them for indexing, pass them as data to software, or use them for any other lawful purpose.\"\n",
    "  Reference:http://legacy.earlham.edu/~peters/fos/overview.htm\n",
    "- Source: \n",
    "    1. Hungarian Institute of Cardiology. Budapest: Andras Janosi, M.D. \n",
    "    2. University Hospital, Zurich, Switzerland: William Steinbrunn, M.D. \n",
    "    3. University Hospital, Basel, Switzerland: Matthias Pfisterer, M.D. \n",
    "    4. V.A. Medical Center, Long Beach and Cleveland Clinic Foundation: Robert         Detrano, M.D., Ph.D. \n",
    "- This dataset includes 14 attributes and 303 instances.\n",
    "\n",
    "# About Attributes\n",
    "      - 1. age:  age in years      \n",
    "      - 2. sex:  (1 = male; 0 = female)     \n",
    "      - 3. cp:  chest pain type\n",
    "          -- Value 1: typical angina\n",
    "          -- Value 2: atypical angina\n",
    "          -- Value 3: non-anginal pain\n",
    "          -- Value 4: asymptomatic    \n",
    "      - 4. trestbps:  resting blood pressure (in mm Hg on admission to the \n",
    "        hospital)\n",
    "      \n",
    "      - 5. chol:  serum cholestoral in mg/dl      \n",
    "      - 6. fbs:  (fasting blood sugar > 120 mg/dl)  (1 = true; 0 = false)    \n",
    "      - 7. restecg:  resting electrocardiographic results\n",
    "          -- Value 0: normal\n",
    "          -- Value 1: having ST-T wave abnormality (T wave inversions and/or ST \n",
    "                  elevation or depression of > 0.05 mV)\n",
    "          -- Value 2: showing probable or definite left ventricular hypertrophy\n",
    "                  by Estes' criteria    \n",
    "      - 8. thalach:  maximum heart rate achieved\n",
    "      - 9. exang:  exercise induced angina (1 = yes; 0 = no)      \n",
    "      - 10. oldpeak:  ST depression induced by exercise relative to rest   \n",
    "      - 11. slope:  the slope of the peak exercise ST segment\n",
    "          -- Value 1: upsloping\n",
    "          -- Value 2: flat\n",
    "          -- Value 3: downsloping      \n",
    "      - 12. ca:  number of major vessels (0-3) colored by flourosopy       \n",
    "      - 13. thal:  3 = normal; 6 = fixed defect; 7 = reversable defect  \n",
    "      - 14. num:  (Prediction of haveing cardiovascular events or not)\n",
    "      - Reference: https://archive.ics.uci.edu/ml/datasets/Heart+Disease"
   ]
  },
  {
   "cell_type": "code",
   "execution_count": 1,
   "metadata": {},
   "outputs": [
    {
     "data": {
      "text/html": [
       "<script>jQuery(function() {if (jQuery(\"body.notebook_app\").length == 0) { jQuery(\".input_area\").toggle(); jQuery(\".prompt\").toggle();}});</script>"
      ]
     },
     "metadata": {},
     "output_type": "display_data"
    }
   ],
   "source": [
    "import IPython.core.display as di\n",
    "\n",
    "# This line will hide code by default when the notebook is exported as HTML\n",
    "di.display_html('<script>jQuery(function() {if (jQuery(\"body.notebook_app\").length == 0) { jQuery(\".input_area\").toggle(); jQuery(\".prompt\").toggle();}});</script>', raw=True)"
   ]
  },
  {
   "cell_type": "code",
   "execution_count": null,
   "metadata": {},
   "outputs": [],
   "source": [
    "import pandas as pd\n",
    "import bqplot\n",
    "from bqplot import *\n",
    "import numpy as np\n",
    "import traitlets\n",
    "import ipywidgets\n",
    "import sklearn\n",
    "import matplotlib.pyplot as plt\n",
    "import seaborn as sns\n",
    "%matplotlib inline"
   ]
  },
  {
   "cell_type": "code",
   "execution_count": null,
   "metadata": {
    "tags": [
     "hidecode"
    ]
   },
   "outputs": [],
   "source": [
    "heart = pd.read_csv(\"heart.csv\")"
   ]
  },
  {
   "cell_type": "markdown",
   "metadata": {},
   "source": [
    "# Purpose: \n",
    "Heart disease dataset includes 14 attributes and 303 instances. From these attributes, different situations of physiological factors are demonstrated. According to these factors, we are trying to find a possible relationship between certain attribute and the prediction of having\n",
    "cardiovascular disease. Therefore, after our analysis, we could know that which attribute has the largest impact on heart health so that we could get some conclusion on how to avoid heart\n",
    "health disease to some degree. \n"
   ]
  },
  {
   "cell_type": "markdown",
   "metadata": {},
   "source": [
    "# The influence on heart disease from a board view\n",
    " - Resting blood pressure VS Age"
   ]
  },
  {
   "cell_type": "markdown",
   "metadata": {},
   "source": [
    "# Resting blood pressure VS Age\n",
    "This scatter plot is used to show the relationship between resting blood pressure and age. The orange point means people who have a cardiovascular event. And the green point means people who do not have a cardiovascular event. We cut the figure into two parts and 50-year-old as the threshold. We could find that people under 50 years old with high resting blood pressure, it will have more opportunity to have cardiovascular events than people who are over 50 years old with high resting blood pressure.\n"
   ]
  },
  {
   "cell_type": "code",
   "execution_count": null,
   "metadata": {
    "tags": [
     "hidecode"
    ]
   },
   "outputs": [],
   "source": [
    "fig = heart[heart.target == 1].plot(kind = 'scatter',x = 'trestbps', y = 'age',color = 'orange',label = 'Predicted cardiovascular events')\n",
    "heart[heart.target == 0].plot(kind = 'scatter',x = 'trestbps', y = 'age',color = 'green',label = 'Not Predicted',ax = fig)\n",
    "\n",
    "fig.set_xlabel('Resting blood pressure')\n",
    "fig.set_ylabel('Age')\n",
    "fig.set_title('Resting blood pressure Vs Age')\n",
    "\n",
    "fig = plt.gcf()\n",
    "fig.set_size_inches(10,7)\n",
    "plt.show()"
   ]
  },
  {
   "cell_type": "markdown",
   "metadata": {},
   "source": [
    "# Distribution of several attributes on heart\n",
    "This violin plot combines the box plot and density plot to show the distribution of several attributes on heart disease. We focus to analyze 4 attributes which are serum cholesterol, resting blood pressure, sex and maximum heart rate achieved. Except for the sex attribute figure, for all the other figure’s x-axis, 0 means people do not have a cardiovascular event, 1 means people have cardiovascular events. For the sex attribute figure, 0 means male and 1 means female. In addition, we could see that for each figure,  it has a black bar which indicates the quartile range used to read the data distribution more clearly and tell us which parts of data are the outlier. In addition, the width of the violin plot means the number of people. The greater the number of people is, the wider the width of the plot is.\n"
   ]
  },
  {
   "cell_type": "code",
   "execution_count": null,
   "metadata": {
    "scrolled": false,
    "tags": [
     "hidecode"
    ]
   },
   "outputs": [],
   "source": [
    "plt.figure(figsize=(10,10))\n",
    "plt.subplot(2,2,1)\n",
    "sns.violinplot(x='target', y = 'chol', data = heart)\n",
    "plt.subplot(2,2,2)\n",
    "sns.violinplot(x='target', y = 'trestbps', data = heart)\n",
    "plt.subplot(2,2,3)\n",
    "sns.violinplot(x='target', y = 'sex', data = heart)\n",
    "plt.subplot(2,2,4)\n",
    "sns.violinplot(x='target', y = 'thalach', data = heart)"
   ]
  },
  {
   "cell_type": "markdown",
   "metadata": {},
   "source": [
    "# More exploration about Age & Resting blood pressure\n",
    "In the “Age & Resting blood pressure” heatmap with scatter plot, instances with different age and Resting blood pressure level are shown in the heatmap. When the instance with a certain age and Resting blood pressure level is chosen, the number of people who have exercise-induced angina in this dataset is shown above. Additionally, the scatter plot, which is linked with the heatmap, demonstrates the maximum heart rate of this certain instance can achieve and the serum cholesterol level.\n",
    "Age & Resting blood pressure=> Maximum heart achieved & Resting blood pressure\n",
    "These visualizations focus on people who have exercise-induced angina in certain age and\n",
    "Resting blood pressure level, while it also illustrates the relationship between the maximum heart\n",
    "rate and Resting blood pressure to help understand their correlations to the heart disease.\n"
   ]
  },
  {
   "cell_type": "code",
   "execution_count": null,
   "metadata": {
    "scrolled": false,
    "tags": [
     "hidecode"
    ]
   },
   "outputs": [],
   "source": [
    "nage = 41\n",
    "ntrestbps = 49\n",
    "hist2d, age_edges, trestbps_edges = np.histogram2d(heart['age'], \n",
    "                                                   heart['trestbps'], \n",
    "                                                   weights = heart['exang'],\n",
    "                                                   normed = False,\n",
    "                                                   bins = [nage,ntrestbps])\n",
    "#age_centers = [(age_edges[i]+age_edges[i+1])*0.5 for i in range(len(age_edges)-1)]\n",
    "#trestbps_centers = [(trestbps_edges[i]+trestbps_edges[i+1])*0.5 for i in range(len(trestbps_edges)-1)]\n",
    "# Focusing on existing situations\n",
    "hist2d[hist2d <= 0] = np.nan \n",
    "\n",
    "# Label \n",
    "mySelectedLabel = ipywidgets.Label()\n",
    "\n",
    "def get_data_value(change):\n",
    "    i,j = change['owner'].selected[0]\n",
    "    v = hist2d[i,j]\n",
    "    mySelectedLabel.value = 'The number of people have exercise induced angina in this kind of condition = ' + str(v)\n",
    "    trestbpss = [trestbps_edges[i], trestbps_edges[i+1]]\n",
    "    ages = [age_edges[j],age_edges[j+1]]\n",
    "    trestbps_mask = ( (heart['age'] >= ages[0]) & (heart['age']<= ages[1]) )\n",
    "    thalach_scatt.x = heart['trestbps'][trestbps_mask]\n",
    "    thalach_scatt.y = heart['thalach'][trestbps_mask]\n",
    "    \n",
    "# Scale    \n",
    "col_sc = bqplot.ColorScale(scheme=\"RdYlBu\",\n",
    "                           min=np.nanmin(hist2d), \n",
    "                           max=np.nanmax(hist2d))\n",
    "x_sc = bqplot.LinearScale()\n",
    "y_sc = bqplot.LinearScale()\n",
    "\n",
    "# create axises\n",
    "c_ax = bqplot.ColorAxis(scale = col_sc, \n",
    "                        orientation = 'vertical', \n",
    "                        side = 'right')\n",
    "x_ax = bqplot.Axis(scale = x_sc, label='Serum cholestoral in mg/dl')\n",
    "y_ax = bqplot.Axis(scale = y_sc, \n",
    "                   orientation = 'vertical', \n",
    "                   label = 'Age')\n",
    "\n",
    "heat_map = bqplot.GridHeatMap(color = hist2d,\n",
    "                              row = age_edges,\n",
    "                              #age_centers, \n",
    "                              column = trestbps_edges,\n",
    "                              #trestbps_centers,\n",
    "                              scales = {'color': col_sc,\n",
    "                                        'row': y_sc,\n",
    "                                        'column': x_sc},\n",
    "                              interactions = {'click': 'select'},\n",
    "                              anchor_style = {'fill':'yellow'}, \n",
    "                              selected_style = {'opacity': 1.0},\n",
    "                              unselected_style = {'opacity': 0.9})\n",
    "\n",
    "heat_map.observe(get_data_value, 'selected')        \n",
    "fig = bqplot.Figure(marks = [heat_map], axes = [c_ax, y_ax, x_ax])\n",
    "\n",
    "# scale for scatter plot\n",
    "x_scl = bqplot.LinearScale() \n",
    "y_scl = bqplot.LinearScale()\n",
    "ax_xcl = bqplot.Axis(label='Serum cholestoral level', scale=x_scl)\n",
    "ax_ycl = bqplot.Axis(label='Maximum heart rate achieved', scale=y_scl, orientation='vertical', side='left')\n",
    "\n",
    "i,j = 0,0\n",
    "trestbpss = [trestbps_edges[i], trestbps_edges[i+1]]\n",
    "ages = [age_edges[j],age_edges[j+1]]\n",
    "trestbps_mask = ( (heart['age'] >= ages[0]) & (heart['age']<= ages[1]) &\\\n",
    "                (heart['trestbps'] >= trestbpss[0]) & (heart['trestbps'] <= trestbpss[1]))\n",
    "\n",
    "\n",
    "# Line plot    Age - Maximum heart rate\n",
    "\n",
    "#thalach, thalach_edges = np.histogram(heart['trestbps'][trestbps_mask],\n",
    "#                                 weights = heart['thalach'][trestbps_mask],\n",
    "#                                 bins = 10)\n",
    "#thalach_centers = [(thalach_edges[i]+thalach_edges[i+1])*0.5 for i in range(len(thalach_edges)-1)]\n",
    "\n",
    "#thalach_line = bqplot.Line(x = heart['oldpeak'][trestbps_mask],\n",
    "#                           y = heart['thalach'][trestbps_mask], \n",
    "#                          scales={'x':x_scl, 'y':y_scl})\n",
    "\n",
    "#fig_sqr = bqplot.Figure(marks = [thalach_line], axes = [ax_xcl, ax_ycl])\n",
    "\n",
    "# Scatter plot\n",
    "thalach_scatt = bqplot.Scatter(x = heart['trestbps'][trestbps_mask],\n",
    "                               y = heart['thalach'][trestbps_mask], \n",
    "                              scales={'x':x_scl, 'y':y_scl})\n",
    "\n",
    "fig_thal = bqplot.Figure(marks = [thalach_scatt], axes = [ax_xcl, ax_ycl])\n",
    "\n",
    "\n",
    "    \n",
    "heat_map.observe(get_data_value, 'selected')\n",
    "\n",
    "ipywidgets.VBox([mySelectedLabel, ipywidgets.HBox([fig,fig_thal])])"
   ]
  },
  {
   "cell_type": "markdown",
   "metadata": {},
   "source": [
    "# Explanation of Age & ST depression\n",
    "\n",
    "In the “Age & ST depression” heatmap with scatter plot, instances with different age and ST depression level are shown in the heatmap. When the instance with certain age and ST depression level is chosen, the number of people who have exercise-induced angina in this dataset is shown above. Additionally, the scatter plot, which is linked with the heatmap, demonstrates the maximum heart rate of this certain instance can achieve and the serum cholesterol amount.\n",
    "Age & ST depression=> Chol & ST depression\n",
    "These visualizations focus on the relationship between serum cholesterol in mg/dl and ST depression which is induced by exercise relative to rest. This relationship helps to understand the correlations among exercise, rest, trace and heart disease.\n"
   ]
  },
  {
   "cell_type": "code",
   "execution_count": null,
   "metadata": {
    "tags": [
     "hidecode"
    ]
   },
   "outputs": [],
   "source": [
    "nage = 41\n",
    "ntrestbps = 49\n",
    "hist2d, age_edges, oldpeak_edges = np.histogram2d(heart['age'], \n",
    "                                                   heart['oldpeak'], \n",
    "                                                   weights = heart['restecg'],\n",
    "                                                   normed = False,\n",
    "                                                   bins = [nage,ntrestbps])\n",
    "\n",
    "hist2d[hist2d <= 0] = np.nan \n",
    "\n",
    "mySelectedLabel = ipywidgets.Label()\n",
    "\n",
    "def get_data_value(change):\n",
    "    i,j = change['owner'].selected[0]\n",
    "    v = hist2d[i,j]\n",
    "    mySelectedLabel.value = 'The number of people have exercise induced angina in this kind of condition = ' + str(v)\n",
    "    oldpeak2 = [oldpeak_edges[i], oldpeak_edges[i+1]]\n",
    "    ages = [age_edges[j],age_edges[j+1]]\n",
    "    oldpeak_mask = ( (heart['age'] >= ages[0]) & (heart['age']<= ages[1]) )\n",
    "    chol_scatt.x = heart['oldpeak'][oldpeak_mask]\n",
    "    chol_scatt.y = heart['chol'][oldpeak_mask]\n",
    "    \n",
    "# Scale    \n",
    "col_sc = bqplot.ColorScale(scheme=\"PuBu\",\n",
    "                           min=np.nanmin(hist2d), \n",
    "                           max=np.nanmax(hist2d))\n",
    "x_sc = bqplot.LinearScale()\n",
    "y_sc = bqplot.LinearScale()\n",
    "\n",
    "# create axises\n",
    "c_ax = bqplot.ColorAxis(scale = col_sc, \n",
    "                        orientation = 'vertical', \n",
    "                        side = 'right')\n",
    "x_ax = bqplot.Axis(scale = x_sc, label='ST depression induced by exercise relative to rest')\n",
    "y_ax = bqplot.Axis(scale = y_sc, \n",
    "                   orientation = 'vertical', \n",
    "                   label = 'Age')\n",
    "\n",
    "heat_map = bqplot.GridHeatMap(color = hist2d,\n",
    "                              row = age_edges,\n",
    "                              #age_centers, \n",
    "                              column = oldpeak_edges,\n",
    "                              #trestbps_centers,\n",
    "                              scales = {'color': col_sc,\n",
    "                                        'row': y_sc,\n",
    "                                        'column': x_sc},\n",
    "                              interactions = {'click': 'select'},\n",
    "                              anchor_style = {'fill':'yellow'}, \n",
    "                              selected_style = {'opacity': 1.0},\n",
    "                              unselected_style = {'opacity': 0.9})\n",
    "\n",
    "heat_map.observe(get_data_value, 'selected')        \n",
    "fig = bqplot.Figure(marks = [heat_map], axes = [c_ax, y_ax, x_ax])\n",
    "\n",
    "\n",
    "\n",
    "\n",
    "# scale for scatter plot\n",
    "x_scl = bqplot.LinearScale() \n",
    "y_scl = bqplot.LinearScale()\n",
    "ax_xcl = bqplot.Axis(label='ST depression induced by exercise relative to rest', scale=x_scl)\n",
    "ax_ycl = bqplot.Axis(label='Serum Cholesterol in mg/dl', scale=y_scl, orientation='vertical', side='left')\n",
    "\n",
    "i,j = 0,0\n",
    "oldpeaks = [oldpeak_edges[i], oldpeak_edges[i+1]]\n",
    "ages = [age_edges[j],age_edges[j+1]]\n",
    "oldpeak_mask = ( (heart['age'] >= ages[0]) & (heart['age']<= ages[1]) &\\\n",
    "                (heart['oldpeak'] >= oldpeaks[0]) & (heart['oldpeak'] <= oldpeaks[1]))\n",
    "\n",
    "\n",
    "\n",
    "# Scatter plot\n",
    "chol_scatt = bqplot.Scatter(x = heart['oldpeak'][oldpeak_mask],\n",
    "                               y = heart['chol'][oldpeak_mask], \n",
    "                              scales={'x':x_scl, 'y':y_scl})\n",
    "\n",
    "fig_thal = bqplot.Figure(marks = [chol_scatt], axes = [ax_xcl, ax_ycl])\n",
    "\n",
    "\n",
    "    \n",
    "heat_map.observe(get_data_value, 'selected')\n",
    "ipywidgets.VBox([mySelectedLabel, ipywidgets.HBox([fig,fig_thal])])\n",
    "# ipywidgets.VBox([mySelectedLabel, ipywidgets.HBox([fig])])"
   ]
  },
  {
   "cell_type": "markdown",
   "metadata": {},
   "source": [
    "# If you are interested: Correlation of attributes"
   ]
  },
  {
   "cell_type": "markdown",
   "metadata": {},
   "source": [
    "# Correlation of attributes:\n",
    "This is a matrix figure to show the correlation value between each attribute. The deeper the color is, the larger the values of correlation are. Therefore, we could see that there are multiple groups like the maximum heart rate achieved and the slope of the peak exercise ST segment have a relatively large and positive correlation. Also, there are multiple groups like the age and the maximum heart rate achieved have a relatively large and negative correlation. \n"
   ]
  },
  {
   "cell_type": "code",
   "execution_count": null,
   "metadata": {
    "tags": [
     "hidecode"
    ]
   },
   "outputs": [],
   "source": [
    "plt.figure(figsize=(8,4))\n",
    "sns.heatmap(heart.corr(), annot=True,fmt='.1g', cmap='cubehelix_r') \n",
    "plt.rcParams['figure.dpi'] = 300\n",
    "plt.show()"
   ]
  },
  {
   "cell_type": "markdown",
   "metadata": {},
   "source": [
    "# Conclusion：\n",
    "In this article, we mainly focus on doing analysis on the relationship among age, resting blood pressure, maximum heart rate and the ST depression induced by exercise relative to rest. The reason we mainly focus on analyzing these attribute is since their correlation value is higher than other groups.\n",
    "According to our current analysis, we think that people who have are under 50 years old with high resting blood pressure may increase the opportunity to have cardiovascular events. In addition, people who are under 50 years old with high serum cholesterol level especially people who have exercise-induced angina, it has higher possibility to have cardiovascular events than others. Finally, we people who have a higher level of ST depression will have relatively high possible to have cardiovascular events than others.\n",
    "Therefore, young people especially who have a high level of resting blood pressure,  serum cholesterol and ST depression should be more careful to supervise themselves in case of having cardiovascular events.\n"
   ]
  }
 ],
 "metadata": {
  "kernelspec": {
   "display_name": "Python 3",
   "language": "python",
   "name": "python3"
  },
  "language_info": {
   "codemirror_mode": {
    "name": "ipython",
    "version": 3
   },
   "file_extension": ".py",
   "mimetype": "text/x-python",
   "name": "python",
   "nbconvert_exporter": "python",
   "pygments_lexer": "ipython3",
   "version": "3.7.2"
  }
 },
 "nbformat": 4,
 "nbformat_minor": 2
}
